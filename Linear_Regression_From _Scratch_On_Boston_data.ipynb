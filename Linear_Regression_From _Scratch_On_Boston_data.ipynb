{
 "cells": [
  {
   "cell_type": "markdown",
   "metadata": {},
   "source": [
    "# Linear Regression From Scratch On Boston Dataset"
   ]
  },
  {
   "cell_type": "markdown",
   "metadata": {},
   "source": [
    "## Loading Data"
   ]
  },
  {
   "cell_type": "code",
   "execution_count": 1,
   "metadata": {},
   "outputs": [],
   "source": [
    "from sklearn.datasets import load_boston\n",
    "data=load_boston()"
   ]
  },
  {
   "cell_type": "code",
   "execution_count": 2,
   "metadata": {},
   "outputs": [
    {
     "name": "stdout",
     "output_type": "stream",
     "text": [
      "shape of the data: (506, 13)\n",
      "==================================================\n",
      "(506,)\n"
     ]
    }
   ],
   "source": [
    "print(\"shape of the data:\",data.data.shape)\n",
    "print(\"=\"*50)\n",
    "print(data.target.shape)"
   ]
  },
  {
   "cell_type": "code",
   "execution_count": 3,
   "metadata": {},
   "outputs": [
    {
     "name": "stdout",
     "output_type": "stream",
     "text": [
      "features: ['CRIM' 'ZN' 'INDUS' 'CHAS' 'NOX' 'RM' 'AGE' 'DIS' 'RAD' 'TAX' 'PTRATIO'\n",
      " 'B' 'LSTAT']\n"
     ]
    }
   ],
   "source": [
    "print(\"features:\",data.feature_names)"
   ]
  },
  {
   "cell_type": "markdown",
   "metadata": {},
   "source": [
    "## Train-Test Split"
   ]
  },
  {
   "cell_type": "code",
   "execution_count": 4,
   "metadata": {},
   "outputs": [],
   "source": [
    "from sklearn.model_selection import train_test_split\n",
    "x_strain,x_stest,y_train,y_test=train_test_split(data.data,data.target,test_size=0.33,random_state=42)"
   ]
  },
  {
   "cell_type": "markdown",
   "metadata": {},
   "source": [
    "## Standardization of Data"
   ]
  },
  {
   "cell_type": "code",
   "execution_count": 5,
   "metadata": {},
   "outputs": [],
   "source": [
    "from sklearn.preprocessing import StandardScaler\n",
    "sgd=StandardScaler()\n",
    "x_train=sgd.fit_transform(x_strain)\n",
    "x_test=sgd.transform(x_stest)"
   ]
  },
  {
   "cell_type": "code",
   "execution_count": 6,
   "metadata": {},
   "outputs": [
    {
     "name": "stdout",
     "output_type": "stream",
     "text": [
      "(339, 13)\n",
      "(339,)\n",
      "(167, 13)\n",
      "(167,)\n"
     ]
    }
   ],
   "source": [
    "print(x_train.shape)\n",
    "print(y_train.shape)\n",
    "print(x_test.shape)\n",
    "print(y_test.shape)"
   ]
  },
  {
   "cell_type": "markdown",
   "metadata": {},
   "source": [
    "## Applying Linear Regression"
   ]
  },
  {
   "cell_type": "code",
   "execution_count": 7,
   "metadata": {},
   "outputs": [],
   "source": [
    "import numpy as np\n",
    "from sklearn.metrics import mean_squared_error\n",
    "optimal_w=[]\n",
    "optimal_b=[]\n",
    "optimal_w.append(np.random.rand(13,1))\n",
    "optimal_b.append(np.random.rand(1,1))\n",
    "error_iteration=[]\n",
    "r=0.0001\n",
    "\n",
    "def function(x,y,weight,intercept):\n",
    "    we=[]\n",
    "    be=[]\n",
    "    we.append(weight)\n",
    "    be.append(intercept)\n",
    "    for i in range(len(x)):#updating weight on each data point (SGD with batch size 1).\n",
    "        x_i=x[i].reshape(13,1)\n",
    "        opt_w=we[i]-r*((-2*x_i)*(y[i]-np.matmul(we[i].T,x_i)-be[i]))\n",
    "        opt_b=be[i]-r*((-2)*(y[i]-np.matmul(we[i].T,x_i)-be[i]))\n",
    "        we.append(opt_w)\n",
    "        be.append(opt_b)\n",
    "        \n",
    "    optimal_w.append(opt_w)#storing the optimal w and b after one epoch in a global variable optimal_w and optimal_b.\n",
    "    optimal_b.append(opt_b)\n",
    "    \n",
    "\n",
    "\n",
    "def predict(x_test,w,b):\n",
    "    y=[]\n",
    "    for i in range(len(x_test)):\n",
    "        y.append(np.matmul(w.T,x_test[i])+b[0])\n",
    "    return y\n",
    "\n",
    "\n",
    "def optimal_w_b(epoch):\n",
    "    for i in range(epoch): \n",
    "        \n",
    "        function(x_train,y_train,optimal_w[i],optimal_b[i])\n",
    "        \n",
    "        y_pred=predict(x_test, optimal_w[i+1], optimal_b[i+1])\n",
    "        error=mean_squared_error(y_test,y_pred)#calcualting loss after each epochs.\n",
    "        error_iteration.append(error)\n",
    "        \n",
    "        print(\"iteration:{}, error:{}\".format(i+1,error))"
   ]
  },
  {
   "cell_type": "code",
   "execution_count": 8,
   "metadata": {},
   "outputs": [
    {
     "name": "stdout",
     "output_type": "stream",
     "text": [
      "iteration:1, error:449.29468414101035\n",
      "iteration:2, error:386.7339233277925\n",
      "iteration:3, error:337.8686826722339\n",
      "iteration:4, error:297.53747055223204\n",
      "iteration:5, error:263.2128294776483\n",
      "iteration:6, error:233.53640634228148\n",
      "iteration:7, error:207.68161430977074\n",
      "iteration:8, error:185.07620280288003\n",
      "iteration:9, error:165.28080980667986\n",
      "iteration:10, error:147.93485128031415\n",
      "iteration:11, error:132.7313772583288\n",
      "iteration:12, error:119.4043808229882\n",
      "iteration:13, error:107.72150586014665\n",
      "iteration:14, error:97.47916792719022\n",
      "iteration:15, error:88.49883666978529\n",
      "iteration:16, error:80.62395807484565\n",
      "iteration:17, error:73.71729665382414\n",
      "iteration:18, error:67.65859949496439\n",
      "iteration:19, error:62.342531839826464\n",
      "iteration:20, error:57.67685196436134\n",
      "iteration:21, error:53.580800030975006\n",
      "iteration:22, error:49.983678541316976\n",
      "iteration:23, error:46.82360381750199\n",
      "iteration:24, error:44.046409507330736\n",
      "iteration:25, error:41.60468469330528\n",
      "iteration:26, error:39.45693079864654\n",
      "iteration:27, error:37.56682307844471\n",
      "iteration:28, error:35.90256401194133\n",
      "iteration:29, error:34.43631733904041\n",
      "iteration:30, error:33.14371279231914\n",
      "iteration:31, error:32.00341275875178\n",
      "iteration:32, error:30.996733164660316\n",
      "iteration:33, error:30.107311819424776\n",
      "iteration:34, error:29.320818287054998\n",
      "iteration:35, error:28.624700089731625\n",
      "iteration:36, error:28.007960693914775\n",
      "iteration:37, error:27.460965297230267\n",
      "iteration:38, error:26.975270932085387\n",
      "iteration:39, error:26.543477838053867\n",
      "iteration:40, error:26.159099436906267\n",
      "iteration:41, error:25.816448578345035\n",
      "iteration:42, error:25.510538016912964\n",
      "iteration:43, error:25.236993336324414\n",
      "iteration:44, error:24.991976761210033\n",
      "iteration:45, error:24.77212049193706\n",
      "iteration:46, error:24.574468369300615\n",
      "iteration:47, error:24.396424825540397\n",
      "iteration:48, error:24.235710209016176\n",
      "iteration:49, error:24.09032168433257\n",
      "iteration:50, error:23.958499009799205\n",
      "iteration:51, error:23.83869458164518\n",
      "iteration:52, error:23.729547210961965\n",
      "iteration:53, error:23.629859166294604\n",
      "iteration:54, error:23.538576073352296\n",
      "iteration:55, error:23.454769314512806\n",
      "iteration:56, error:23.377620615579765\n",
      "iteration:57, error:23.306408546414325\n",
      "iteration:58, error:23.240496696318246\n",
      "iteration:59, error:23.1793233150016\n",
      "iteration:60, error:23.122392236169482\n",
      "iteration:61, error:23.069264923677498\n",
      "iteration:62, error:23.01955350024638\n",
      "iteration:63, error:22.972914636256046\n",
      "iteration:64, error:22.92904419146969\n",
      "iteration:65, error:22.88767251594725\n",
      "iteration:66, error:22.84856032813586\n",
      "iteration:67, error:22.811495098382277\n",
      "iteration:68, error:22.77628787508421\n",
      "iteration:69, error:22.742770498544953\n",
      "iteration:70, error:22.7107931544595\n",
      "iteration:71, error:22.680222224964737\n",
      "iteration:72, error:22.650938400436758\n",
      "iteration:73, error:22.622835019813586\n",
      "iteration:74, error:22.595816611238643\n",
      "iteration:75, error:22.569797608336376\n",
      "iteration:76, error:22.54470122050625\n",
      "iteration:77, error:22.520458438311\n",
      "iteration:78, error:22.497007157389742\n",
      "iteration:79, error:22.47429140638451\n",
      "iteration:80, error:22.45226066617113\n",
      "iteration:81, error:22.43086926926165\n",
      "iteration:82, error:22.410075869624876\n",
      "iteration:83, error:22.38984297437877\n"
     ]
    }
   ],
   "source": [
    "epoch=83 #After 83 iteration we get our optimal w and b\n",
    "optimal_w_b(epoch)"
   ]
  },
  {
   "cell_type": "code",
   "execution_count": 10,
   "metadata": {},
   "outputs": [
    {
     "data": {
      "image/png": "[encoded data removed]",
      "text/plain": [
       "<Figure size 432x288 with 1 Axes>"
      ]
     },
     "metadata": {},
     "output_type": "display_data"
    }
   ],
   "source": [
    "import matplotlib.pyplot as plt\n",
    "epochs=[]\n",
    "for i in range(1,84):\n",
    "    epochs.append(i)\n",
    "    \n",
    "plt.plot(epochs,error_iteration)\n",
    "plt.title(\"error vs epochs\")\n",
    "plt.xlabel('epochs')\n",
    "plt.ylabel('error')\n",
    "plt.grid()\n",
    "plt.show()"
   ]
  },
  {
   "cell_type": "code",
   "execution_count": null,
   "metadata": {},
   "outputs": [],
   "source": []
  }
 ],
 "metadata": {
  "kernelspec": {
   "display_name": "Python 3",
   "language": "python",
   "name": "python3"
  },
  "language_info": {
   "codemirror_mode": {
    "name": "ipython",
    "version": 3
   },
   "file_extension": ".py",
   "mimetype": "text/x-python",
   "name": "python",
   "nbconvert_exporter": "python",
   "pygments_lexer": "ipython3",
   "version": "3.6.5"
  }
 },
 "nbformat": 4,
 "nbformat_minor": 2
}
